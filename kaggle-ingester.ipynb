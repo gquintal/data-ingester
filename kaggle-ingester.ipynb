{
 "cells": [
  {
   "cell_type": "code",
   "execution_count": 0,
   "metadata": {
    "application/vnd.databricks.v1+cell": {
     "cellMetadata": {
      "byteLimit": 2048000,
      "rowLimit": 10000
     },
     "inputWidgets": {},
     "nuid": "538c9bad-5c7d-42b0-ad85-05cbbb41f65f",
     "showTitle": false,
     "tableResultSettingsMap": {},
     "title": ""
    }
   },
   "outputs": [],
   "source": [
    "# 1. Instala la librería de Kaggle (solo la primera vez)\n",
    "%pip install kaggle"
   ]
  },
  {
   "cell_type": "code",
   "execution_count": 0,
   "metadata": {
    "application/vnd.databricks.v1+cell": {
     "cellMetadata": {
      "byteLimit": 2048000,
      "rowLimit": 10000
     },
     "inputWidgets": {},
     "nuid": "bc74b264-ffd2-4660-8bdb-f891e6a04ec7",
     "showTitle": false,
     "tableResultSettingsMap": {},
     "title": ""
    }
   },
   "outputs": [],
   "source": [
    "%pip install openpyxl"
   ]
  },
  {
   "cell_type": "code",
   "execution_count": 0,
   "metadata": {
    "application/vnd.databricks.v1+cell": {
     "cellMetadata": {
      "byteLimit": 2048000,
      "rowLimit": 10000
     },
     "inputWidgets": {},
     "nuid": "f766bcf9-f25a-4253-8524-1170415dd4db",
     "showTitle": false,
     "tableResultSettingsMap": {},
     "title": ""
    }
   },
   "outputs": [],
   "source": [
    "%restart_python"
   ]
  },
  {
   "cell_type": "code",
   "execution_count": 0,
   "metadata": {
    "application/vnd.databricks.v1+cell": {
     "cellMetadata": {
      "byteLimit": 2048000,
      "rowLimit": 10000
     },
     "inputWidgets": {},
     "nuid": "2c257349-b2d4-4af7-8fd4-1da152126dfc",
     "showTitle": false,
     "tableResultSettingsMap": {},
     "title": ""
    }
   },
   "outputs": [],
   "source": [
    "import os\n",
    "from datetime import datetime, timezone\n",
    "from pathlib import Path\n",
    "import pandas as pd\n",
    "from pyspark.sql.functions import *\n",
    "from pyspark.sql.types import *\n",
    "from delta.tables import DeltaTable"
   ]
  },
  {
   "cell_type": "code",
   "execution_count": 0,
   "metadata": {
    "application/vnd.databricks.v1+cell": {
     "cellMetadata": {
      "byteLimit": 2048000,
      "rowLimit": 10000
     },
     "inputWidgets": {},
     "nuid": "df3dcd54-b011-4f1f-97eb-97da622673ab",
     "showTitle": false,
     "tableResultSettingsMap": {},
     "title": ""
    }
   },
   "outputs": [],
   "source": [
    "dbutils.widgets.removeAll()"
   ]
  },
  {
   "cell_type": "code",
   "execution_count": 0,
   "metadata": {
    "application/vnd.databricks.v1+cell": {
     "cellMetadata": {
      "byteLimit": 2048000,
      "rowLimit": 10000
     },
     "inputWidgets": {},
     "nuid": "14a35e64-f03c-4e19-90fb-fbc007fcbc8b",
     "showTitle": false,
     "tableResultSettingsMap": {},
     "title": ""
    }
   },
   "outputs": [],
   "source": [
    "# Definir widgets para parametrizar notebook\n",
    "dbutils.widgets.text(\"dataset\", \"jillanisofttech/flight-price-prediction-dataset\", \"Kaggle Dataset (owner/name)\")\n",
    "dbutils.widgets.text(\"mount_point\", \"/mnt/storeintelligence\", \"Mount Point Path\")\n",
    "dbutils.widgets.text(\"container_csv\", \"raw\", \"Container CSV Files\")\n",
    "dbutils.widgets.text(\"table_name\", \"flight_booking\", \"Table Name\")"
   ]
  },
  {
   "cell_type": "code",
   "execution_count": 0,
   "metadata": {
    "application/vnd.databricks.v1+cell": {
     "cellMetadata": {
      "byteLimit": 2048000,
      "rowLimit": 10000
     },
     "inputWidgets": {},
     "nuid": "e5b212bd-c626-4cf8-93f2-ebcbc1e9ea7f",
     "showTitle": false,
     "tableResultSettingsMap": {},
     "title": ""
    }
   },
   "outputs": [],
   "source": [
    "dataset         = dbutils.widgets.get(\"dataset\")\n",
    "mount_point     = dbutils.widgets.get(\"mount_point\")\n",
    "container_csv   = dbutils.widgets.get(\"container_csv\")\n",
    "table           = dbutils.widgets.get(\"table_name\")"
   ]
  },
  {
   "cell_type": "code",
   "execution_count": 0,
   "metadata": {
    "application/vnd.databricks.v1+cell": {
     "cellMetadata": {
      "byteLimit": 2048000,
      "rowLimit": 10000
     },
     "inputWidgets": {},
     "nuid": "19cb5781-ad49-43d1-a48d-46b2e50de10e",
     "showTitle": false,
     "tableResultSettingsMap": {},
     "title": ""
    }
   },
   "outputs": [],
   "source": [
    "secret_scope    = \"keyvault-secrets\"\n",
    "fmt             = \"csv\"\n",
    "catalog         = \"store_intelligence\"\n",
    "database        = \"default\"\n",
    "target_folder   = f\"/dbfs{mount_point}/raw\"\n",
    "tmp_folder      = f\"/dbfs{mount_point}/tmp\"\n",
    "dbfs_tmp        = f\"dbfs:{mount_point}/tmp\""
   ]
  },
  {
   "cell_type": "code",
   "execution_count": 0,
   "metadata": {
    "application/vnd.databricks.v1+cell": {
     "cellMetadata": {
      "byteLimit": 2048000,
      "rowLimit": 10000
     },
     "inputWidgets": {},
     "nuid": "fcbcb275-42a7-4207-ae70-2858e96634ca",
     "showTitle": false,
     "tableResultSettingsMap": {},
     "title": ""
    }
   },
   "outputs": [],
   "source": [
    "# Recuperar las credenciales desde Azure Key Vault\n",
    "username = dbutils.secrets.get(scope=secret_scope, key=\"kaggle-username\")\n",
    "key      = dbutils.secrets.get(scope=secret_scope, key=\"kaggle-key\")"
   ]
  },
  {
   "cell_type": "code",
   "execution_count": 0,
   "metadata": {
    "application/vnd.databricks.v1+cell": {
     "cellMetadata": {
      "byteLimit": 2048000,
      "rowLimit": 10000
     },
     "inputWidgets": {},
     "nuid": "25e4385a-9963-445d-94d3-5dcf2578fdc2",
     "showTitle": false,
     "tableResultSettingsMap": {},
     "title": ""
    }
   },
   "outputs": [],
   "source": [
    "# Configurar las variables de entorno para que Kaggle API las reconozca\n",
    "os.environ[\"KAGGLE_USERNAME\"] = username\n",
    "os.environ[\"KAGGLE_KEY\"]      = key"
   ]
  },
  {
   "cell_type": "code",
   "execution_count": 0,
   "metadata": {
    "application/vnd.databricks.v1+cell": {
     "cellMetadata": {
      "byteLimit": 2048000,
      "rowLimit": 10000
     },
     "inputWidgets": {},
     "nuid": "88c07502-16e0-491f-ab18-aeb8748ccd45",
     "showTitle": false,
     "tableResultSettingsMap": {},
     "title": ""
    }
   },
   "outputs": [],
   "source": [
    "# Importar y autenticar la API de Kaggle\n",
    "from kaggle.api.kaggle_api_extended import KaggleApi\n",
    "api = KaggleApi()\n",
    "api.authenticate()"
   ]
  },
  {
   "cell_type": "code",
   "execution_count": 0,
   "metadata": {
    "application/vnd.databricks.v1+cell": {
     "cellMetadata": {
      "byteLimit": 2048000,
      "rowLimit": 10000
     },
     "inputWidgets": {},
     "nuid": "846f147a-8dd5-4a75-8abf-4ef6d8fc81ef",
     "showTitle": false,
     "tableResultSettingsMap": {},
     "title": ""
    }
   },
   "outputs": [],
   "source": [
    "dbutils.fs.rm(dbfs_tmp, recurse=True)"
   ]
  },
  {
   "cell_type": "code",
   "execution_count": 0,
   "metadata": {
    "application/vnd.databricks.v1+cell": {
     "cellMetadata": {
      "byteLimit": 2048000,
      "rowLimit": 10000
     },
     "inputWidgets": {},
     "nuid": "e288da51-8b35-4418-b29d-cc38d5a15a3d",
     "showTitle": false,
     "tableResultSettingsMap": {},
     "title": ""
    }
   },
   "outputs": [],
   "source": [
    "dbutils.fs.mkdirs(dbfs_tmp)"
   ]
  },
  {
   "cell_type": "code",
   "execution_count": 0,
   "metadata": {
    "application/vnd.databricks.v1+cell": {
     "cellMetadata": {
      "byteLimit": 2048000,
      "rowLimit": 10000
     },
     "inputWidgets": {},
     "nuid": "bce1711e-dda0-497b-86ae-0a70e5f25a1f",
     "showTitle": false,
     "tableResultSettingsMap": {},
     "title": ""
    }
   },
   "outputs": [],
   "source": [
    "# Descargar dataset\n",
    "api.dataset_download_files(\n",
    "    dataset=dataset,\n",
    "    path=(tmp_folder),\n",
    "    unzip=True\n",
    ")"
   ]
  },
  {
   "cell_type": "code",
   "execution_count": 0,
   "metadata": {
    "application/vnd.databricks.v1+cell": {
     "cellMetadata": {
      "byteLimit": 2048000,
      "rowLimit": 10000
     },
     "inputWidgets": {},
     "nuid": "23cdefde-a97e-4653-888c-fe6939354a81",
     "showTitle": false,
     "tableResultSettingsMap": {},
     "title": ""
    }
   },
   "outputs": [],
   "source": [
    "# Convertir a CSV los archivos descargados\n",
    "for file_path in Path(tmp_folder).rglob(\"*\"):\n",
    "    suffix = file_path.suffix.lower()\n",
    "    if suffix in [\".xls\", \".xlsx\"]:\n",
    "        # Selecciona el engine correcto\n",
    "        engine = \"openpyxl\" if suffix == \".xlsx\" else \"xlrd\"\n",
    "\n",
    "        # Lee el archivo Excel\n",
    "        df = pd.read_excel(str(file_path), engine=engine)\n",
    "\n",
    "        csv_name = f\"{file_path.stem}.csv\"\n",
    "        csv_path = os.path.join(target_folder, csv_name)\n",
    "        \n",
    "        df.to_csv(csv_path, header=True, index=False, encoding=\"utf-8\", mode=\"w\")\n"
   ]
  },
  {
   "cell_type": "code",
   "execution_count": 0,
   "metadata": {
    "application/vnd.databricks.v1+cell": {
     "cellMetadata": {
      "byteLimit": 2048000,
      "rowLimit": 10000
     },
     "inputWidgets": {},
     "nuid": "3f138b65-7cd7-49a6-b4d4-29b9b43f8d21",
     "showTitle": false,
     "tableResultSettingsMap": {},
     "title": ""
    }
   },
   "outputs": [],
   "source": [
    "dbutils.fs.rm(dbfs_tmp, recurse=True)"
   ]
  },
  {
   "cell_type": "code",
   "execution_count": 0,
   "metadata": {
    "application/vnd.databricks.v1+cell": {
     "cellMetadata": {
      "byteLimit": 2048000,
      "rowLimit": 10000
     },
     "inputWidgets": {},
     "nuid": "9db45731-0f41-4a97-8f90-1600ffca593b",
     "showTitle": false,
     "tableResultSettingsMap": {},
     "title": ""
    }
   },
   "outputs": [],
   "source": [
    "csv_path = f\"{mount_point}/{container_csv}/*.{fmt}\""
   ]
  },
  {
   "cell_type": "code",
   "execution_count": 0,
   "metadata": {
    "application/vnd.databricks.v1+cell": {
     "cellMetadata": {
      "byteLimit": 2048000,
      "rowLimit": 10000
     },
     "inputWidgets": {},
     "nuid": "63c5601e-a2bd-4aa1-aad4-bb39d6367b19",
     "showTitle": false,
     "tableResultSettingsMap": {},
     "title": ""
    }
   },
   "outputs": [],
   "source": [
    "#Esquema flight_booking\n",
    "flight_schema= StructType([\n",
    "StructField('Airline',StringType(),nullable=True ),\n",
    "StructField('Date_of_Journey',StringType(),nullable=True),\n",
    "StructField('Source',StringType(),nullable=True),\n",
    "StructField('Destination',StringType(),nullable=True),\n",
    "StructField('Route',StringType(),nullable=True),\n",
    "StructField('Dep_Time',StringType(),nullable=True),\n",
    "StructField('Arrival_Time',StringType(),nullable=True),\n",
    "StructField('Duration',StringType(),nullable=True),\n",
    "StructField('Total_Stops',StringType(),nullable=True),\n",
    "StructField('Additional_Info',StringType(),nullable=True),\n",
    "StructField('Price',FloatType(),nullable=True)\n",
    "])"
   ]
  },
  {
   "cell_type": "code",
   "execution_count": 0,
   "metadata": {
    "application/vnd.databricks.v1+cell": {
     "cellMetadata": {
      "byteLimit": 2048000,
      "rowLimit": 10000
     },
     "inputWidgets": {},
     "nuid": "684566cb-1824-478e-9477-df26fd1e92d3",
     "showTitle": false,
     "tableResultSettingsMap": {},
     "title": ""
    }
   },
   "outputs": [],
   "source": [
    "df = spark.read.format(\"csv\") \\\n",
    "    .option(\"header\", \"true\") \\\n",
    "    .schema(flight_schema) \\\n",
    "    .load(csv_path)"
   ]
  },
  {
   "cell_type": "code",
   "execution_count": 0,
   "metadata": {
    "application/vnd.databricks.v1+cell": {
     "cellMetadata": {
      "byteLimit": 2048000,
      "rowLimit": 10000
     },
     "inputWidgets": {},
     "nuid": "1350841d-ed9e-4b92-b97b-0aa931a56d8c",
     "showTitle": false,
     "tableResultSettingsMap": {},
     "title": ""
    }
   },
   "outputs": [],
   "source": [
    "# Eliminar duplicados\n",
    "df_distinct = df.dropDuplicates()"
   ]
  },
  {
   "cell_type": "code",
   "execution_count": 0,
   "metadata": {
    "application/vnd.databricks.v1+cell": {
     "cellMetadata": {
      "byteLimit": 2048000,
      "rowLimit": 10000
     },
     "inputWidgets": {},
     "nuid": "fdedf6a7-a34d-4a2d-991b-9ecd6a2d7282",
     "showTitle": false,
     "tableResultSettingsMap": {},
     "title": ""
    }
   },
   "outputs": [],
   "source": [
    "# Convertir a date la columna Date_of_Journey\n",
    "df_distinct = df_distinct.withColumn(\"Date_of_Journey\", concat_ws(\"-\",split(col(\"Date_of_Journey\"),\"/\").getItem(2),split(col(\"Date_of_Journey\"),\"/\").getItem(1),split(col(\"Date_of_Journey\"),\"/\").getItem(0)).cast(\"date\"))"
   ]
  },
  {
   "cell_type": "code",
   "execution_count": 0,
   "metadata": {
    "application/vnd.databricks.v1+cell": {
     "cellMetadata": {
      "byteLimit": 2048000,
      "rowLimit": 10000
     },
     "inputWidgets": {},
     "nuid": "ea5ee62d-0c7c-451b-b8e4-566d8dd27d3a",
     "showTitle": false,
     "tableResultSettingsMap": {},
     "title": ""
    }
   },
   "outputs": [],
   "source": [
    "# Obtener info específica de un external location\n",
    "external_info = spark.sql(\"DESCRIBE EXTERNAL LOCATION exlt-adlsstoreintelligence-datalake\").collect()\n",
    "location_url = external_info[0][\"url\"]\n",
    "location_url = f\"{location_url}tables\""
   ]
  },
  {
   "cell_type": "code",
   "execution_count": 0,
   "metadata": {
    "application/vnd.databricks.v1+cell": {
     "cellMetadata": {
      "byteLimit": 2048000,
      "rowLimit": 10000
     },
     "inputWidgets": {},
     "nuid": "850d1af7-7ece-4cc5-b47f-1a6c0aac232d",
     "showTitle": false,
     "tableResultSettingsMap": {},
     "title": ""
    }
   },
   "outputs": [],
   "source": [
    "# Crear estructura de la tabla\n",
    "sql_query = f\"\"\"\n",
    "CREATE TABLE IF NOT EXISTS store_intelligence.default.flight_booking (\n",
    "    Airline STRING,\n",
    "    Date_of_Journey DATE,\n",
    "    Source STRING,\n",
    "    Destination STRING,\n",
    "    Route STRING,\n",
    "    Dep_Time STRING,\n",
    "    Arrival_Time STRING,\n",
    "    Duration STRING,\n",
    "    Total_Stops STRING,\n",
    "    Additional_Info STRING,\n",
    "    Price FLOAT\n",
    ")\n",
    "USING DELTA\n",
    "LOCATION '{location_url}/flight_booking'\n",
    "\"\"\"\n",
    "\n",
    "spark.sql(sql_query)"
   ]
  },
  {
   "cell_type": "code",
   "execution_count": 0,
   "metadata": {
    "application/vnd.databricks.v1+cell": {
     "cellMetadata": {
      "byteLimit": 2048000,
      "rowLimit": 10000
     },
     "inputWidgets": {},
     "nuid": "6512537f-381a-47ad-b391-15a900e53361",
     "showTitle": false,
     "tableResultSettingsMap": {},
     "title": ""
    }
   },
   "outputs": [],
   "source": [
    "table_name = f\"{catalog}.{database}.{table}\"\n",
    "print(table_name)"
   ]
  },
  {
   "cell_type": "code",
   "execution_count": 0,
   "metadata": {
    "application/vnd.databricks.v1+cell": {
     "cellMetadata": {
      "byteLimit": 2048000,
      "rowLimit": 10000
     },
     "inputWidgets": {},
     "nuid": "72e2aa8e-c94e-4384-9fb7-c81e62387807",
     "showTitle": false,
     "tableResultSettingsMap": {},
     "title": ""
    }
   },
   "outputs": [],
   "source": [
    "# Obtener fechas existentes\n",
    "new_dates = df_distinct.select(\"Date_of_Journey\").distinct().rdd.flatMap(lambda x: x).collect()\n",
    "dates_condition = ','.join([f\"'{date}'\" for date in new_dates])"
   ]
  },
  {
   "cell_type": "code",
   "execution_count": 0,
   "metadata": {
    "application/vnd.databricks.v1+cell": {
     "cellMetadata": {
      "byteLimit": 2048000,
      "rowLimit": 10000
     },
     "inputWidgets": {},
     "nuid": "bae36b65-5c32-4cd4-bf18-5e9b4207b581",
     "showTitle": false,
     "tableResultSettingsMap": {},
     "title": ""
    }
   },
   "outputs": [],
   "source": [
    "# Eliminar fechas existentes\n",
    "sql_query = f\"\"\"\n",
    "DELETE FROM {table_name}\n",
    "WHERE Date_of_Journey IN ({dates_condition})\n",
    "\"\"\"\n",
    "\n",
    "spark.sql(sql_query)"
   ]
  },
  {
   "cell_type": "code",
   "execution_count": 0,
   "metadata": {
    "application/vnd.databricks.v1+cell": {
     "cellMetadata": {
      "byteLimit": 2048000,
      "rowLimit": 10000
     },
     "inputWidgets": {},
     "nuid": "6652f289-90f9-4969-9a0e-ac69edcf9fdd",
     "showTitle": false,
     "tableResultSettingsMap": {},
     "title": ""
    }
   },
   "outputs": [],
   "source": [
    "display(spark.sql(f\"SELECT COUNT(*) FROM {table_name}\"))"
   ]
  },
  {
   "cell_type": "code",
   "execution_count": 0,
   "metadata": {
    "application/vnd.databricks.v1+cell": {
     "cellMetadata": {
      "byteLimit": 2048000,
      "rowLimit": 10000
     },
     "inputWidgets": {},
     "nuid": "f137ba3c-ae2d-4693-a7ce-6ab23d016e5f",
     "showTitle": false,
     "tableResultSettingsMap": {},
     "title": ""
    }
   },
   "outputs": [],
   "source": [
    "# Insertar nuevos datos\n",
    "df_distinct.write \\\n",
    "        .format(\"delta\") \\\n",
    "        .mode(\"append\") \\\n",
    "        .saveAsTable(table_name)"
   ]
  },
  {
   "cell_type": "code",
   "execution_count": 0,
   "metadata": {
    "application/vnd.databricks.v1+cell": {
     "cellMetadata": {
      "byteLimit": 2048000,
      "rowLimit": 10000
     },
     "inputWidgets": {},
     "nuid": "e3c4ef6c-4ea0-478a-aede-06a0cabcdc17",
     "showTitle": false,
     "tableResultSettingsMap": {},
     "title": ""
    }
   },
   "outputs": [],
   "source": [
    "display(spark.sql(f\"SELECT COUNT(*) FROM {table_name}\"))"
   ]
  }
 ],
 "metadata": {
  "application/vnd.databricks.v1+notebook": {
   "computePreferences": null,
   "dashboards": [],
   "environmentMetadata": {
    "base_environment": "",
    "environment_version": "2"
   },
   "inputWidgetPreferences": null,
   "language": "python",
   "notebookMetadata": {
    "mostRecentlyExecutedCommandWithImplicitDF": {
     "commandId": 6626905578140927,
     "dataframes": [
      "_sqldf"
     ]
    },
    "pythonIndentUnit": 4
   },
   "notebookName": "kaggle-ingester",
   "widgets": {
    "container_csv": {
     "currentValue": "raw",
     "nuid": "22a49429-0689-4faf-adb6-2c4c332cdfc9",
     "typedWidgetInfo": {
      "autoCreated": false,
      "defaultValue": "raw",
      "label": "Container CSV Files",
      "name": "container_csv",
      "options": {
       "widgetDisplayType": "Text",
       "validationRegex": null
      },
      "parameterDataType": "String"
     },
     "widgetInfo": {
      "widgetType": "text",
      "defaultValue": "raw",
      "label": "Container CSV Files",
      "name": "container_csv",
      "options": {
       "widgetType": "text",
       "autoCreated": false,
       "validationRegex": null
      }
     }
    },
    "dataset": {
     "currentValue": "jillanisofttech/flight-price-prediction-dataset",
     "nuid": "0fd3e9d6-969a-4052-8e08-a8c13642b269",
     "typedWidgetInfo": {
      "autoCreated": false,
      "defaultValue": "jillanisofttech/flight-price-prediction-dataset",
      "label": "Kaggle Dataset (owner/name)",
      "name": "dataset",
      "options": {
       "widgetDisplayType": "Text",
       "validationRegex": null
      },
      "parameterDataType": "String"
     },
     "widgetInfo": {
      "widgetType": "text",
      "defaultValue": "jillanisofttech/flight-price-prediction-dataset",
      "label": "Kaggle Dataset (owner/name)",
      "name": "dataset",
      "options": {
       "widgetType": "text",
       "autoCreated": false,
       "validationRegex": null
      }
     }
    },
    "mount_point": {
     "currentValue": "/mnt/storeintelligence",
     "nuid": "5daf4256-7016-4965-84f2-86a26562db9e",
     "typedWidgetInfo": {
      "autoCreated": false,
      "defaultValue": "/mnt/storeintelligence",
      "label": "Mount Point Path",
      "name": "mount_point",
      "options": {
       "widgetDisplayType": "Text",
       "validationRegex": null
      },
      "parameterDataType": "String"
     },
     "widgetInfo": {
      "widgetType": "text",
      "defaultValue": "/mnt/storeintelligence",
      "label": "Mount Point Path",
      "name": "mount_point",
      "options": {
       "widgetType": "text",
       "autoCreated": false,
       "validationRegex": null
      }
     }
    },
    "table_name": {
     "currentValue": "flight_booking",
     "nuid": "d42a0733-d690-4c50-9e68-4050f0c46006",
     "typedWidgetInfo": {
      "autoCreated": false,
      "defaultValue": "flight_booking",
      "label": "Table Name",
      "name": "table_name",
      "options": {
       "widgetDisplayType": "Text",
       "validationRegex": null
      },
      "parameterDataType": "String"
     },
     "widgetInfo": {
      "widgetType": "text",
      "defaultValue": "flight_booking",
      "label": "Table Name",
      "name": "table_name",
      "options": {
       "widgetType": "text",
       "autoCreated": false,
       "validationRegex": null
      }
     }
    }
   }
  },
  "language_info": {
   "name": "python"
  }
 },
 "nbformat": 4,
 "nbformat_minor": 0
}
